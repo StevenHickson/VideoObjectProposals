{
 "cells": [
  {
   "cell_type": "code",
   "execution_count": 2,
   "metadata": {},
   "outputs": [],
   "source": [
    "import numpy as np\n",
    "from matplotlib import pyplot as plt\n",
    "import tensorflow as tf\n",
    "import cv2\n",
    "import os"
   ]
  },
  {
   "cell_type": "code",
   "execution_count": 4,
   "metadata": {},
   "outputs": [],
   "source": [
    "def create_graph():\n",
    "    \"\"\"Creates a graph from saved GraphDef file and returns a saver.\"\"\"\n",
    "    # Creates graph from saved graph_def.pb.\n",
    "    with tf.gfile.FastGFile(os.path.join(\n",
    "      '/data/models/inception/', 'classify_image_graph_def.pb'), 'rb') as f:\n",
    "        graph_def = tf.GraphDef()\n",
    "        graph_def.ParseFromString(f.read())\n",
    "        _ = tf.import_graph_def(graph_def, name='')"
   ]
  },
  {
   "cell_type": "code",
   "execution_count": 6,
   "metadata": {},
   "outputs": [],
   "source": [
    "embedding_list = []\n",
    "labels_list = []\n",
    "#sess = tf.Session('local', graph=tf.get_default_graph())\n",
    "#with sess, sess.graph.device(tf.ReplicaDeviceSetter(ps_tasks=0, worker_device='/gpu:0')):\n",
    "# Creates graph from saved GraphDef.\n",
    "create_graph()\n",
    "c = 0\n",
    "with tf.Session() as sess:\n",
    "    # Some useful tensors:\n",
    "    # 'softmax:0': A tensor containing the normalized prediction across\n",
    "    #   1000 labels.\n",
    "    # 'pool_3:0': A tensor containing the next-to-last layer containing 2048\n",
    "    #   float description of the image.\n",
    "    # 'DecodeJpeg/contents:0': A tensor containing a string providing JPEG\n",
    "    #   encoding of the image.\n",
    "    # Runs the softmax tensor by feeding the image_data as input to the graph.\n",
    "    embedding_tensor = sess.graph.get_tensor_by_name('pool_3:0')\n",
    "\n",
    "    for line in open('/data/gt_proposals/info.txt'):\n",
    "        fields = line.split(',')\n",
    "        if int(fields[3]) == 1:\n",
    "            image_data = tf.gfile.FastGFile(fields[0], 'rb').read()\n",
    "            embeddings = sess.run(embedding_tensor, {'DecodeJpeg/contents:0': image_data})\n",
    "            labels_list.append(int(fields[2]))\n",
    "            embedding_list.append(embeddings)\n",
    "            c += 1"
   ]
  },
  {
   "cell_type": "code",
   "execution_count": 11,
   "metadata": {},
   "outputs": [],
   "source": [
    "labels_list = np.array(labels_list).reshape(c, 1)\n",
    "embedding_list = np.array(embedding_list)\n",
    "embedding_list = embedding_list.reshape(c, 2048)"
   ]
  },
  {
   "cell_type": "code",
   "execution_count": 12,
   "metadata": {},
   "outputs": [
    {
     "name": "stdout",
     "output_type": "stream",
     "text": [
      "(5257, 1)\n",
      "(5257, 2048)\n"
     ]
    }
   ],
   "source": [
    "print labels_list.shape\n",
    "print embedding_list.shape"
   ]
  },
  {
   "cell_type": "code",
   "execution_count": 13,
   "metadata": {},
   "outputs": [
    {
     "name": "stdout",
     "output_type": "stream",
     "text": [
      "(5257, 2049)\n"
     ]
    }
   ],
   "source": [
    "save_array = np.hstack((labels_list, embedding_list))\n",
    "print save_array.shape\n",
    "np.save('/data/gt_proposals/embeddings_baseline.npy', save_array)"
   ]
  },
  {
   "cell_type": "code",
   "execution_count": null,
   "metadata": {},
   "outputs": [],
   "source": []
  }
 ],
 "metadata": {
  "kernelspec": {
   "display_name": "Python 2",
   "language": "python",
   "name": "python2"
  },
  "language_info": {
   "codemirror_mode": {
    "name": "ipython",
    "version": 2
   },
   "file_extension": ".py",
   "mimetype": "text/x-python",
   "name": "python",
   "nbconvert_exporter": "python",
   "pygments_lexer": "ipython2",
   "version": "2.7.12"
  }
 },
 "nbformat": 4,
 "nbformat_minor": 2
}
