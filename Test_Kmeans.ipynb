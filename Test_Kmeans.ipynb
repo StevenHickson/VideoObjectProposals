{
 "cells": [
  {
   "cell_type": "code",
   "execution_count": 1,
   "metadata": {},
   "outputs": [],
   "source": [
    "import numpy as np\n",
    "from matplotlib import pyplot as plt\n",
    "import tensorflow as tf\n",
    "import cv2\n",
    "import os\n",
    "from tensorflow.contrib.learn.python.learn.estimators import kmeans\n",
    "from tensorflow.python.framework import constant_op"
   ]
  },
  {
   "cell_type": "code",
   "execution_count": 2,
   "metadata": {},
   "outputs": [],
   "source": [
    "train_set = np.load('/data/gt_proposals/embeddings_baseline_train.npy')\n",
    "val_set = np.load('/data/gt_proposals/embeddings_baseline.npy')"
   ]
  },
  {
   "cell_type": "code",
   "execution_count": 3,
   "metadata": {},
   "outputs": [
    {
     "name": "stdout",
     "output_type": "stream",
     "text": [
      "INFO:tensorflow:Using default config.\n",
      "WARNING:tensorflow:Using temporary folder as model directory: /tmp/tmp9KoEAn\n",
      "INFO:tensorflow:Using config: {'_save_checkpoints_secs': 600, '_num_ps_replicas': 0, '_keep_checkpoint_max': 5, '_task_type': None, '_is_chief': True, '_cluster_spec': <tensorflow.python.training.server_lib.ClusterSpec object at 0x7f9dac500690>, '_model_dir': '/tmp/tmp9KoEAn', '_save_checkpoints_steps': None, '_keep_checkpoint_every_n_hours': 10000, '_session_config': None, '_tf_random_seed': None, '_save_summary_steps': 100, '_environment': 'local', '_num_worker_replicas': 0, '_task_id': 0, '_log_step_count_steps': 100, '_tf_config': gpu_options {\n",
      "  per_process_gpu_memory_fraction: 1.0\n",
      "}\n",
      ", '_evaluation_master': '', '_master': ''}\n",
      "(26241, 2049)\n",
      "(26241, 2048)\n",
      "(26241, 1)\n"
     ]
    }
   ],
   "source": [
    "clusterer = kmeans.KMeansClustering(\n",
    "      num_clusters=2,\n",
    "      use_mini_batch=False)\n",
    "x = train_set\n",
    "labels = x[:,0:1]\n",
    "x = x[:,1:]\n",
    "print train_set.shape\n",
    "print x.shape\n",
    "print labels.shape"
   ]
  },
  {
   "cell_type": "code",
   "execution_count": 4,
   "metadata": {},
   "outputs": [
    {
     "name": "stdout",
     "output_type": "stream",
     "text": [
      "WARNING:tensorflow:From /usr/local/lib/python2.7/dist-packages/tensorflow/contrib/learn/python/learn/estimators/kmeans.py:120: get_global_step (from tensorflow.contrib.framework.python.ops.variables) is deprecated and will be removed in a future version.\n",
      "Instructions for updating:\n",
      "Please switch to tf.train.get_global_step\n",
      "INFO:tensorflow:Create CheckpointSaverHook.\n",
      "INFO:tensorflow:Saving checkpoints for 1 into /tmp/tmp9KoEAn/model.ckpt.\n",
      "INFO:tensorflow:loss = 5.42514e+06, step = 1\n",
      "INFO:tensorflow:Saving checkpoints for 10 into /tmp/tmp9KoEAn/model.ckpt.\n",
      "INFO:tensorflow:Loss for final step: 3.19265e+06.\n"
     ]
    },
    {
     "data": {
      "text/plain": [
       "KMeansClustering(params={'mini_batch_steps_per_iteration': 1, 'random_seed': 0, 'training_initial_clusters': 'random', 'use_mini_batch': False, 'distance_metric': 'squared_euclidean', 'num_clusters': 2, 'kmeans_plus_plus_num_retries': 2, 'relative_tolerance': None})"
      ]
     },
     "execution_count": 4,
     "metadata": {},
     "output_type": "execute_result"
    }
   ],
   "source": [
    "def _input_fn(tensor, num_epochs=None):\n",
    "    \"\"\"Constructs an input_fn for KMeansClustering estimator.\n",
    "\n",
    "    Args:\n",
    "      tensor: A 2D numpy.ndarray of data points.\n",
    "      num_epochs: A positive integer (optional).  If specified, limits the\n",
    "        number of steps the output tensor may be evaluated.\n",
    "\n",
    "    Returns:\n",
    "      An input_fn.\n",
    "    \"\"\"\n",
    "    def _constant_input_fn():\n",
    "          return (\n",
    "          tf.train.limit_epochs(tf.constant(tensor), num_epochs=num_epochs),\n",
    "          None)\n",
    "    return _constant_input_fn\n",
    "\n",
    "clusterer.fit(\n",
    "      input_fn=_input_fn(x.astype(np.float32)), steps=10)"
   ]
  },
  {
   "cell_type": "code",
   "execution_count": 5,
   "metadata": {},
   "outputs": [
    {
     "name": "stdout",
     "output_type": "stream",
     "text": [
      "INFO:tensorflow:Restoring parameters from /tmp/tmp9KoEAn/model.ckpt-10\n"
     ]
    }
   ],
   "source": [
    "x_val = val_set\n",
    "labels_val = x_val[:,0:1]\n",
    "x_val = x_val[:,1:]\n",
    "predictions = np.array(list(clusterer.predict_cluster_idx(\n",
    "        input_fn=_input_fn(x_val.astype(np.float32), num_epochs=1))))"
   ]
  },
  {
   "cell_type": "code",
   "execution_count": 6,
   "metadata": {},
   "outputs": [
    {
     "name": "stdout",
     "output_type": "stream",
     "text": [
      "(5257, 1)\n",
      "(5257,)\n"
     ]
    }
   ],
   "source": [
    "print labels_val.shape\n",
    "print predictions.shape"
   ]
  },
  {
   "cell_type": "code",
   "execution_count": 7,
   "metadata": {},
   "outputs": [],
   "source": [
    "cluster_counts = dict()\n",
    "for l,p in zip(labels_val.flatten(),predictions):\n",
    "    if l not in cluster_counts:\n",
    "        cluster_counts[l] = [0,0,0]\n",
    "    cluster_counts[l][p] += 1"
   ]
  },
  {
   "cell_type": "code",
   "execution_count": 8,
   "metadata": {},
   "outputs": [
    {
     "name": "stdout",
     "output_type": "stream",
     "text": [
      "{11.0: [1737, 112, 0], 12.0: [300, 45, 0], 13.0: [198, 1960, 0], 14.0: [5, 54, 0], 15.0: [10, 70, 0], 16.0: [8, 11, 0], 17.0: [21, 10, 0], 18.0: [644, 72, 0]}\n"
     ]
    }
   ],
   "source": [
    "print cluster_counts"
   ]
  },
  {
   "cell_type": "code",
   "execution_count": 9,
   "metadata": {},
   "outputs": [],
   "source": [
    "tf.reset_default_graph()"
   ]
  },
  {
   "cell_type": "code",
   "execution_count": null,
   "metadata": {},
   "outputs": [],
   "source": []
  }
 ],
 "metadata": {
  "kernelspec": {
   "display_name": "Python 2",
   "language": "python",
   "name": "python2"
  },
  "language_info": {
   "codemirror_mode": {
    "name": "ipython",
    "version": 2
   },
   "file_extension": ".py",
   "mimetype": "text/x-python",
   "name": "python",
   "nbconvert_exporter": "python",
   "pygments_lexer": "ipython2",
   "version": "2.7.12"
  }
 },
 "nbformat": 4,
 "nbformat_minor": 2
}
